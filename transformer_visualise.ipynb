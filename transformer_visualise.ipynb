{
 "cells": [
  {
   "cell_type": "code",
   "execution_count": null,
   "id": "initial_id",
   "metadata": {
    "collapsed": true,
    "is_executing": true
   },
   "outputs": [],
   "source": [
    "from gensim.models import Word2Vec\n",
    "import numpy as np\n",
    "import matplotlib.pyplot as plt\n",
    "from sklearn.decomposition import PCA\n",
    "from sklearn.manifold import TSNE\n",
    "\n",
    "# Sample sentence\n",
    "sentence = \"The transformer model processes words in parallel and uses self-attention to find relationships\"\n",
    "tokens = sentence.lower().split()\n",
    "\n",
    "# Train a Word2Vec model\n",
    "model = Word2Vec([tokens], vector_size=50, window=5, min_count=1, workers=4)\n",
    "\n",
    "# Get word embeddings\n",
    "word_vectors = np.array([model.wv[word] for word in tokens])\n",
    "words = tokens  # Keeping words for labeling\n",
    "\n",
    "# Reduce dimensions (PCA -> t-SNE for better visualization)\n",
    "pca = PCA(n_components=10)\n",
    "word_vectors_pca = pca.fit_transform(word_vectors)\n",
    "\n",
    "tsne = TSNE(n_components=2, perplexity=5, random_state=42)\n",
    "word_vectors_2d = tsne.fit_transform(word_vectors_pca)\n",
    "\n",
    "# Plot the embeddings\n",
    "plt.figure(figsize=(8, 6))\n",
    "plt.scatter(word_vectors_2d[:, 0], word_vectors_2d[:, 1], marker='o', color='blue')\n",
    "\n",
    "# Annotate words\n",
    "for i, word in enumerate(words):\n",
    "    plt.text(word_vectors_2d[i, 0] + 0.05, word_vectors_2d[i, 1] + 0.05, word, fontsize=12)\n",
    "\n",
    "plt.title(\"Word Embeddings Visualization\")\n",
    "plt.xlabel(\"Dimension 1\")\n",
    "plt.ylabel(\"Dimension 2\")\n",
    "plt.grid(True)\n",
    "plt.show()\n"
   ]
  },
  {
   "cell_type": "code",
   "outputs": [],
   "source": [],
   "metadata": {
    "collapsed": false
   },
   "id": "2c84ed85df2b270b"
  }
 ],
 "metadata": {
  "kernelspec": {
   "display_name": "Python 3",
   "language": "python",
   "name": "python3"
  },
  "language_info": {
   "codemirror_mode": {
    "name": "ipython",
    "version": 2
   },
   "file_extension": ".py",
   "mimetype": "text/x-python",
   "name": "python",
   "nbconvert_exporter": "python",
   "pygments_lexer": "ipython2",
   "version": "2.7.6"
  }
 },
 "nbformat": 4,
 "nbformat_minor": 5
}
